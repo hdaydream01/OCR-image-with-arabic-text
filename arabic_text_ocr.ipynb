{
  "nbformat": 4,
  "nbformat_minor": 0,
  "metadata": {
    "colab": {
      "provenance": []
    },
    "kernelspec": {
      "name": "python3",
      "display_name": "Python 3"
    },
    "language_info": {
      "name": "python"
    }
  },
  "cells": [
    {
      "cell_type": "code",
      "execution_count": null,
      "metadata": {
        "colab": {
          "base_uri": "https://localhost:8080/"
        },
        "id": "mcH4aRQIv_es",
        "outputId": "03075823-db0a-4bfa-8e91-33da0a182d62"
      },
      "outputs": [
        {
          "output_type": "stream",
          "name": "stdout",
          "text": [
            "Looking in indexes: https://pypi.org/simple, https://us-python.pkg.dev/colab-wheels/public/simple/\n",
            "Collecting pytesseract\n",
            "  Downloading pytesseract-0.3.10-py3-none-any.whl (14 kB)\n",
            "Requirement already satisfied: packaging>=21.3 in /usr/local/lib/python3.10/dist-packages (from pytesseract) (23.1)\n",
            "Requirement already satisfied: Pillow>=8.0.0 in /usr/local/lib/python3.10/dist-packages (from pytesseract) (8.4.0)\n",
            "Installing collected packages: pytesseract\n",
            "Successfully installed pytesseract-0.3.10\n",
            "Reading package lists... Done\n",
            "Building dependency tree       \n",
            "Reading state information... Done\n",
            "The following additional packages will be installed:\n",
            "  tesseract-ocr-eng tesseract-ocr-osd\n",
            "The following NEW packages will be installed:\n",
            "  tesseract-ocr tesseract-ocr-eng tesseract-ocr-osd\n",
            "0 upgraded, 3 newly installed, 0 to remove and 38 not upgraded.\n",
            "Need to get 4,850 kB of archives.\n",
            "After this operation, 16.3 MB of additional disk space will be used.\n",
            "Get:1 http://archive.ubuntu.com/ubuntu focal/universe amd64 tesseract-ocr-eng all 1:4.00~git30-7274cfa-1 [1,598 kB]\n",
            "Get:2 http://archive.ubuntu.com/ubuntu focal/universe amd64 tesseract-ocr-osd all 1:4.00~git30-7274cfa-1 [2,990 kB]\n",
            "Get:3 http://archive.ubuntu.com/ubuntu focal/universe amd64 tesseract-ocr amd64 4.1.1-2build2 [262 kB]\n",
            "Fetched 4,850 kB in 0s (26.0 MB/s)\n",
            "Selecting previously unselected package tesseract-ocr-eng.\n",
            "(Reading database ... 122541 files and directories currently installed.)\n",
            "Preparing to unpack .../tesseract-ocr-eng_1%3a4.00~git30-7274cfa-1_all.deb ...\n",
            "Unpacking tesseract-ocr-eng (1:4.00~git30-7274cfa-1) ...\n",
            "Selecting previously unselected package tesseract-ocr-osd.\n",
            "Preparing to unpack .../tesseract-ocr-osd_1%3a4.00~git30-7274cfa-1_all.deb ...\n",
            "Unpacking tesseract-ocr-osd (1:4.00~git30-7274cfa-1) ...\n",
            "Selecting previously unselected package tesseract-ocr.\n",
            "Preparing to unpack .../tesseract-ocr_4.1.1-2build2_amd64.deb ...\n",
            "Unpacking tesseract-ocr (4.1.1-2build2) ...\n",
            "Setting up tesseract-ocr-eng (1:4.00~git30-7274cfa-1) ...\n",
            "Setting up tesseract-ocr-osd (1:4.00~git30-7274cfa-1) ...\n",
            "Setting up tesseract-ocr (4.1.1-2build2) ...\n",
            "Processing triggers for man-db (2.9.1-1) ...\n"
          ]
        }
      ],
      "source": [
        "!pip install pytesseract\n",
        "!apt install tesseract-ocr"
      ]
    },
    {
      "cell_type": "code",
      "source": [
        "!apt install tesseract-ocr-ara"
      ],
      "metadata": {
        "colab": {
          "base_uri": "https://localhost:8080/"
        },
        "id": "uNkyP_-LwIkF",
        "outputId": "d7e58757-27c1-4196-bdfb-d52bf0751084"
      },
      "execution_count": null,
      "outputs": [
        {
          "output_type": "stream",
          "name": "stdout",
          "text": [
            "Reading package lists... Done\n",
            "Building dependency tree       \n",
            "Reading state information... Done\n",
            "The following NEW packages will be installed:\n",
            "  tesseract-ocr-ara\n",
            "0 upgraded, 1 newly installed, 0 to remove and 38 not upgraded.\n",
            "Need to get 645 kB of archives.\n",
            "After this operation, 1,447 kB of additional disk space will be used.\n",
            "Get:1 http://archive.ubuntu.com/ubuntu focal/universe amd64 tesseract-ocr-ara all 1:4.00~git30-7274cfa-1 [645 kB]\n",
            "Fetched 645 kB in 0s (6,046 kB/s)\n",
            "Selecting previously unselected package tesseract-ocr-ara.\n",
            "(Reading database ... 122588 files and directories currently installed.)\n",
            "Preparing to unpack .../tesseract-ocr-ara_1%3a4.00~git30-7274cfa-1_all.deb ...\n",
            "Unpacking tesseract-ocr-ara (1:4.00~git30-7274cfa-1) ...\n",
            "Setting up tesseract-ocr-ara (1:4.00~git30-7274cfa-1) ...\n"
          ]
        }
      ]
    },
    {
      "cell_type": "code",
      "source": [
        "import pytesseract\n",
        "pytesseract.pytesseract.tesseract_cmd = '/usr/bin/tesseract'"
      ],
      "metadata": {
        "id": "v4rWGS55wM3t"
      },
      "execution_count": null,
      "outputs": []
    },
    {
      "cell_type": "code",
      "source": [
        "import cv2\n",
        "import pytesseract"
      ],
      "metadata": {
        "id": "4cNyxngLwSZP"
      },
      "execution_count": null,
      "outputs": []
    },
    {
      "cell_type": "code",
      "source": [
        "image = cv2.imread('arabic_text.png')"
      ],
      "metadata": {
        "id": "hOg3ZQlJwVyk"
      },
      "execution_count": null,
      "outputs": []
    },
    {
      "cell_type": "code",
      "source": [
        "text = pytesseract.image_to_string(image, lang='ara')"
      ],
      "metadata": {
        "id": "rhKFlLSbwdnn"
      },
      "execution_count": null,
      "outputs": []
    },
    {
      "cell_type": "code",
      "source": [
        "print(text)"
      ],
      "metadata": {
        "colab": {
          "base_uri": "https://localhost:8080/"
        },
        "id": "kVkLjUZLwhhr",
        "outputId": "771c358b-338b-4b3c-dc66-e31833958b93"
      },
      "execution_count": null,
      "outputs": [
        {
          "output_type": "stream",
          "name": "stdout",
          "text": [
            "الخلاصة\n",
            "\n",
            "تعتمد كثير من مجالات البحوث؛ مثل التعرف الآلي على الحديث\n",
            "والتعرف الضوئي على الأحرف واسترجاع المعلومات» على وجود\n",
            "إحصائي جيد للغة المستخدمة. فكلما علت جودة التمثيل الإحصائي زادت\n",
            "تلك الأنظمة. ومن جهة أخرىء فإن اللغة العربية هي أغنى وأكثر تعقيدا من\n",
            "اللغة الإنجليزية وأحد أسباب ذلك هو الوجود المكثف للزوائد الإعرابية غ\n",
            "الصرفية؛ فهذه الزوائد يمكن أن تتصل بساق الكلمة أو ببعضها بدون أية\n",
            "علامات ترقيم كما هو الحال في اللغة الإنجليزية؛ لذا ظهرت الحاجة لدراسة\n",
            "الفروقات الإحصائية على نطاق واسع بين اللغتين العربية والإنجليزية. وقد\n",
            "استخدمت - لهذا الغرض - مجموعتان كبيرتان من الوثائق الإخبارية النصية\n",
            "باللغتين العربية والإنجليزية تحتوي كل منها على ستمائة مليون كلمة اسئة\n",
            "منهما إحصاءات عن طول الكلمة والفقرة في اللغتين العربية والإنجليزية ؛\n",
            "وعلامات الترقيم » وتوزيع تكرار آحاد الكلمات وأزواجها وثلاثياتهاء علاوة\n",
            "على ذلك ثرست في هذا البحث توزيع الزوائد الإعرابية في اللغة العر:\n",
            "وأثرها الإحصائي. وأهم النتائج التي ظهرت هي أن أحاد الكلمات في |!\n",
            "العربية أغنى بما نسبته 9/076 منها في اللغة الإنجليزية. وبعدما فككت\n",
            "الزوائد الإعرابية من الكلمات فقد انخفض حجم معجم آحاد الكلمات في اللغة\n",
            "العربية بما نسبته 924,54\n",
            "\n",
            " \n",
            "\n",
            " \n",
            "\n",
            " \n",
            "\n",
            " \n",
            "\n",
            " \n",
            "\n",
            " \n",
            "\n",
            "   \n",
            "\f\n"
          ]
        }
      ]
    }
  ]
}